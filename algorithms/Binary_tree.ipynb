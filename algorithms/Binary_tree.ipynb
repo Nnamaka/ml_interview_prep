{
 "cells": [
  {
   "cell_type": "code",
   "execution_count": 1,
   "id": "f4e5e8ed-55f9-4585-a4b2-3ace8fccb11a",
   "metadata": {},
   "outputs": [
    {
     "name": "stdout",
     "output_type": "stream",
     "text": [
      "show\n"
     ]
    }
   ],
   "source": [
    "print(\"show\")"
   ]
  },
  {
   "cell_type": "code",
   "execution_count": null,
   "id": "b65ea2dd-6020-498e-8951-5d940e55f0ff",
   "metadata": {},
   "outputs": [],
   "source": []
  },
  {
   "cell_type": "code",
   "execution_count": null,
   "id": "a930bb2e-66b2-42ed-a95d-0e37abf4a87a",
   "metadata": {},
   "outputs": [],
   "source": []
  },
  {
   "cell_type": "code",
   "execution_count": null,
   "id": "446bfa07-a710-4ade-a6de-8e5970fc0969",
   "metadata": {},
   "outputs": [],
   "source": []
  },
  {
   "cell_type": "code",
   "execution_count": null,
   "id": "1d41a57e-0c7b-4a1b-a9c9-acf116b6aca6",
   "metadata": {},
   "outputs": [],
   "source": []
  }
 ],
 "metadata": {
  "kernelspec": {
   "display_name": "Python 3 (ipykernel)",
   "language": "python",
   "name": "python3"
  },
  "language_info": {
   "codemirror_mode": {
    "name": "ipython",
    "version": 3
   },
   "file_extension": ".py",
   "mimetype": "text/x-python",
   "name": "python",
   "nbconvert_exporter": "python",
   "pygments_lexer": "ipython3",
   "version": "3.11.5"
  }
 },
 "nbformat": 4,
 "nbformat_minor": 5
}
